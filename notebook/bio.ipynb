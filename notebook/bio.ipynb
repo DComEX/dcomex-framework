{
 "cells": [
  {
   "cell_type": "markdown",
   "id": "638af8d0-01f1-44ca-bcd7-08dbf245f194",
   "metadata": {
    "id": "638af8d0-01f1-44ca-bcd7-08dbf245f194"
   },
   "source": [
    "[![Open In Colab](https://colab.research.google.com/assets/colab-badge.svg)](https://colab.research.google.com/github/slitvinov/dcomex-framework/blob/master/notebook/bio.ipynb)"
   ]
  },
  {
   "cell_type": "code",
   "execution_count": null,
   "id": "0JB1029Epexp",
   "metadata": {
    "id": "0JB1029Epexp"
   },
   "outputs": [],
   "source": [
    "%%sh\n",
    "if ! test -f .clone\n",
    "then git clone --depth 1 --quiet https://github.com/slitvinov/dcomex-framework &&\n",
    "     : > .clone\n",
    "fi"
   ]
  },
  {
   "cell_type": "code",
   "execution_count": null,
   "id": "xQi-6S4Cp8pc",
   "metadata": {
    "colab": {
     "base_uri": "https://localhost:8080/"
    },
    "id": "xQi-6S4Cp8pc",
    "outputId": "cb0bccd7-d9db-4128-bbec-3b9178143a9a"
   },
   "outputs": [],
   "source": [
    "%%sh\n",
    "if ! test -f .install\n",
    "then cd dcomex-framework\n",
    "     if ! test -z \"$COLAB_RELEASE_TAG\"\n",
    "     then make lbin lmsolve ldotnet\n",
    "     else make 'USER = 1' 'PREFIX = $(HOME)/.local' lbin lmsolve ldotnet\n",
    "     fi\n",
    "     : > .install\n",
    "fi"
   ]
  },
  {
   "cell_type": "code",
   "execution_count": null,
   "id": "_a1yy9x7r8L5",
   "metadata": {
    "colab": {
     "base_uri": "https://localhost:8080/"
    },
    "id": "_a1yy9x7r8L5",
    "outputId": "99141982-f5b9-4c97-c3a3-33e2e9a3e48b"
   },
   "outputs": [],
   "source": [
    "import itertools\n",
    "import multiprocessing\n",
    "import os\n",
    "import subprocess\n",
    "import sys\n",
    "\n",
    "\n",
    "class BioException(Exception):\n",
    "    pass\n",
    "\n",
    "\n",
    "def bio(k1, mu, sv, time, Surrogate=False, Verbose=False):\n",
    "    cmd = [\"bio\"]\n",
    "    if Surrogate:\n",
    "        cmd.append(\"-s\")\n",
    "    cmd.append(\"--\")\n",
    "    cmd.append(\"%.16e\" % k1)\n",
    "    cmd.append(\"%.16e\" % mu)\n",
    "    cmd.append(\"%.16e\" % sv)\n",
    "    for nstep, dt in zip(time[::2], time[1::2]):\n",
    "        cmd.append(\"%d\" % nstep)\n",
    "        cmd.append(\"%.16e\" % dt)\n",
    "    if Verbose:\n",
    "        sys.stderr.write(\"%d: %s\\n\" % (os.getpid(), \" \".join(cmd)))\n",
    "    try:\n",
    "        output = subprocess.check_output(cmd, stderr=subprocess.STDOUT)\n",
    "    except subprocess.CalledProcessError as e:\n",
    "        raise BioException(e.cmd, e.stdout) from None\n",
    "    output = output.decode()\n",
    "    try:\n",
    "        return [[float(t) for t in l.split()] for l in output.split(\"\\n\")\n",
    "                if len(l)]\n",
    "    except ValueError:\n",
    "        raise BioException(output) from None\n",
    "\n",
    "\n",
    "Time = 10, 1e-2\n",
    "# Time = 200, 2e-1, 99, 40.0, 439, 2000.0\n",
    "Surrogate = True\n",
    "Verbose = True\n",
    "sv = 7e3\n",
    "P = [\n",
    "    (k1, mu, sv, Time, Surrogate, Verbose) for k1, mu in itertools.product(\n",
    "        (7.520e-08, 7.520e-07, 7.520e-06, 7.520e-05),  #\n",
    "        (2.244e+01, 2.244e+02, 2.244e+03, 2.244e+04))\n",
    "]\n",
    "with multiprocessing.Pool(multiprocessing.cpu_count()) as pool:\n",
    "    try:\n",
    "        D = pool.starmap(bio, P)\n",
    "    except BioException as e:\n",
    "        cmd, stdout = e.args\n",
    "        sys.stderr.write(\"bio: error: command '%s' failed\\n\" % \" \".join(cmd))\n",
    "        sys.stderr.write(\"%s\\n\" % stdout.decode('ascii'))"
   ]
  },
  {
   "cell_type": "code",
   "execution_count": null,
   "id": "OIyK0ikI57qg",
   "metadata": {
    "colab": {
     "base_uri": "https://localhost:8080/",
     "height": 448
    },
    "id": "OIyK0ikI57qg",
    "outputId": "5f69994b-2949-4338-c7ad-904ada273258"
   },
   "outputs": [],
   "source": [
    "import matplotlib.pyplot as plt\n",
    "sec_in_day = 24 * 60 * 60\n",
    "for (k1, mu, sv, *rest), d in zip(P, D):\n",
    "    time, volume = zip(*d)\n",
    "    plt.plot([time / sec_in_day for time in time], [ (v - volume[0]) for v in volume], \"o-\");"
   ]
  }
 ],
 "metadata": {
  "colab": {
   "provenance": []
  },
  "kernelspec": {
   "display_name": "Python 3 (ipykernel)",
   "language": "python",
   "name": "python3"
  },
  "language_info": {
   "codemirror_mode": {
    "name": "ipython",
    "version": 3
   },
   "file_extension": ".py",
   "mimetype": "text/x-python",
   "name": "python",
   "nbconvert_exporter": "python",
   "pygments_lexer": "ipython3",
   "version": "3.8.10"
  }
 },
 "nbformat": 4,
 "nbformat_minor": 5
}
